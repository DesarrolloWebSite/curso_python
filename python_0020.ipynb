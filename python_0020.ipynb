{
  "nbformat": 4,
  "nbformat_minor": 0,
  "metadata": {
    "colab": {
      "provenance": [],
      "authorship_tag": "ABX9TyPygywMNDDjct1SyChExK3c",
      "include_colab_link": true
    },
    "kernelspec": {
      "name": "python3",
      "display_name": "Python 3"
    },
    "language_info": {
      "name": "python"
    }
  },
  "cells": [
    {
      "cell_type": "markdown",
      "metadata": {
        "id": "view-in-github",
        "colab_type": "text"
      },
      "source": [
        "<a href=\"https://colab.research.google.com/github/DesarrolloWebSite/curso_python/blob/main/python_0020.ipynb\" target=\"_parent\"><img src=\"https://colab.research.google.com/assets/colab-badge.svg\" alt=\"Open In Colab\"/></a>"
      ]
    },
    {
      "cell_type": "markdown",
      "source": [
        "# Listas\n",
        "Arrays (arreglos)\n",
        "Una lista es un conjunto iterable de datos ordenados que van entre corteches []"
      ],
      "metadata": {
        "id": "N0q2H9y9d8z5"
      }
    },
    {
      "cell_type": "code",
      "execution_count": 1,
      "metadata": {
        "colab": {
          "base_uri": "https://localhost:8080/"
        },
        "id": "hpCfRDy6d6O7",
        "outputId": "8ace9e87-174b-46aa-c9c3-adea25954d32"
      },
      "outputs": [
        {
          "output_type": "execute_result",
          "data": {
            "text/plain": [
              "[]"
            ]
          },
          "metadata": {},
          "execution_count": 1
        }
      ],
      "source": [
        "[]    # lista vacia"
      ]
    },
    {
      "cell_type": "code",
      "source": [
        "[10, 15, 12] # lista de números enteros"
      ],
      "metadata": {
        "colab": {
          "base_uri": "https://localhost:8080/"
        },
        "id": "O8FRs8ooeleS",
        "outputId": "452066db-14d8-496f-85c5-7d7d9c15ae19"
      },
      "execution_count": 2,
      "outputs": [
        {
          "output_type": "execute_result",
          "data": {
            "text/plain": [
              "[10, 15, 12]"
            ]
          },
          "metadata": {},
          "execution_count": 2
        }
      ]
    },
    {
      "cell_type": "code",
      "source": [
        "estaciones=['primavera','verano','otroño','invierno'] #lista de 4 elementos que empieza por cero\n",
        "print(estaciones)"
      ],
      "metadata": {
        "colab": {
          "base_uri": "https://localhost:8080/"
        },
        "id": "up5N6_ocezbM",
        "outputId": "a1480285-5b00-4415-8e3e-acadde5fec04"
      },
      "execution_count": 4,
      "outputs": [
        {
          "output_type": "stream",
          "name": "stdout",
          "text": [
            "['primavera', 'verano', 'otroño', 'invierno']\n"
          ]
        }
      ]
    },
    {
      "cell_type": "markdown",
      "source": [
        "## Índice de una lista\n",
        "El index comienza por cero"
      ],
      "metadata": {
        "id": "ji8vLLMgfLr0"
      }
    },
    {
      "cell_type": "code",
      "source": [
        "print(estaciones[0])\n",
        "print(estaciones[1])\n",
        "print(estaciones[2])\n",
        "print(estaciones[3])\n",
        "print(estaciones[-1])"
      ],
      "metadata": {
        "colab": {
          "base_uri": "https://localhost:8080/"
        },
        "id": "okJY8Q0_fVk3",
        "outputId": "a3db079f-0d08-4639-d351-a6e8aebda648"
      },
      "execution_count": 9,
      "outputs": [
        {
          "output_type": "stream",
          "name": "stdout",
          "text": [
            "primavera\n",
            "verano\n",
            "otroño\n",
            "invierno\n",
            "invierno\n"
          ]
        }
      ]
    },
    {
      "cell_type": "markdown",
      "source": [
        "## Longitud de una lista"
      ],
      "metadata": {
        "id": "z_G2CoSfgQCV"
      }
    },
    {
      "cell_type": "code",
      "source": [
        "colores=['rojo','azul','amarillo','verde','naranja','rosa']\n",
        "len(colores) #cuántos elementos tenemos dentro de la lista\n"
      ],
      "metadata": {
        "colab": {
          "base_uri": "https://localhost:8080/"
        },
        "id": "vRrC8Ln9geIU",
        "outputId": "cd6de008-7919-482c-94fb-57131c541d0a"
      },
      "execution_count": 11,
      "outputs": [
        {
          "output_type": "execute_result",
          "data": {
            "text/plain": [
              "6"
            ]
          },
          "metadata": {},
          "execution_count": 11
        }
      ]
    },
    {
      "cell_type": "markdown",
      "source": [
        "## Tipo de dato"
      ],
      "metadata": {
        "id": "XGc9T2HNhOvL"
      }
    },
    {
      "cell_type": "code",
      "source": [
        "print(type(colores))"
      ],
      "metadata": {
        "colab": {
          "base_uri": "https://localhost:8080/"
        },
        "id": "quPKIVpHhTwd",
        "outputId": "298b2932-808e-4f96-8f7c-f4006130f75b"
      },
      "execution_count": 13,
      "outputs": [
        {
          "output_type": "stream",
          "name": "stdout",
          "text": [
            "<class 'list'>\n"
          ]
        }
      ]
    },
    {
      "cell_type": "markdown",
      "source": [
        "## Las cadenas admiten slicing"
      ],
      "metadata": {
        "id": "dwpI3acJhmAq"
      }
    },
    {
      "cell_type": "code",
      "source": [
        "colores[2:5] #El 2 marca el inicio  el 5 marca el final de la lista. Pero el 5 no se incluye (se incluye el 2 hasta el 4)"
      ],
      "metadata": {
        "colab": {
          "base_uri": "https://localhost:8080/"
        },
        "id": "jaJrwYNshtGZ",
        "outputId": "49d63546-737a-47a4-965a-ca5d2152034a"
      },
      "execution_count": 14,
      "outputs": [
        {
          "output_type": "execute_result",
          "data": {
            "text/plain": [
              "['amarillo', 'verde', 'naranja']"
            ]
          },
          "metadata": {},
          "execution_count": 14
        }
      ]
    },
    {
      "cell_type": "code",
      "source": [
        "colores[:3]"
      ],
      "metadata": {
        "colab": {
          "base_uri": "https://localhost:8080/"
        },
        "id": "4AXj6eJ0iHbp",
        "outputId": "072b24cb-b82d-43f3-e0ac-a16fb78831af"
      },
      "execution_count": 15,
      "outputs": [
        {
          "output_type": "execute_result",
          "data": {
            "text/plain": [
              "['rojo', 'azul', 'amarillo']"
            ]
          },
          "metadata": {},
          "execution_count": 15
        }
      ]
    },
    {
      "cell_type": "code",
      "source": [
        "colores[3:]"
      ],
      "metadata": {
        "colab": {
          "base_uri": "https://localhost:8080/"
        },
        "id": "h1tzg361iRK3",
        "outputId": "4fd62b23-8502-48c5-cecb-6b090d5aaed6"
      },
      "execution_count": 16,
      "outputs": [
        {
          "output_type": "execute_result",
          "data": {
            "text/plain": [
              "['verde', 'naranja', 'rosa']"
            ]
          },
          "metadata": {},
          "execution_count": 16
        }
      ]
    },
    {
      "cell_type": "code",
      "source": [
        "colores[:]"
      ],
      "metadata": {
        "colab": {
          "base_uri": "https://localhost:8080/"
        },
        "id": "ikKJRP9Aih0_",
        "outputId": "7fbf280f-b1a2-4cd2-c80a-d505247bd847"
      },
      "execution_count": 17,
      "outputs": [
        {
          "output_type": "execute_result",
          "data": {
            "text/plain": [
              "['rojo', 'azul', 'amarillo', 'verde', 'naranja', 'rosa']"
            ]
          },
          "metadata": {},
          "execution_count": 17
        }
      ]
    },
    {
      "cell_type": "markdown",
      "source": [
        "## Matriz: Array 2D\n",
        "Matriz de dos dimiensiones\n",
        "Matriz de 3 filas y 4 columnas 3x4"
      ],
      "metadata": {
        "id": "JB5WU4wVirww"
      }
    },
    {
      "cell_type": "code",
      "source": [
        "m=[[11,12,13,14],\n",
        " [21,22,23,24],\n",
        "  [31,32,33,34]]\n",
        "m"
      ],
      "metadata": {
        "colab": {
          "base_uri": "https://localhost:8080/"
        },
        "id": "9bNJh1o-izZm",
        "outputId": "bb34a8a8-e4c3-45ff-d74d-6d4fc38875e3"
      },
      "execution_count": 23,
      "outputs": [
        {
          "output_type": "execute_result",
          "data": {
            "text/plain": [
              "[[11, 12, 13, 14], [21, 22, 23, 24], [31, 32, 33, 34]]"
            ]
          },
          "metadata": {},
          "execution_count": 23
        }
      ]
    },
    {
      "cell_type": "code",
      "source": [
        "print(*m) # me lo imprime sin las comas y sin los corchetes exteriores"
      ],
      "metadata": {
        "colab": {
          "base_uri": "https://localhost:8080/"
        },
        "id": "IvUmWCp-j0Qc",
        "outputId": "e4c7a4e2-b88b-41ab-c262-de34d66eb2e7"
      },
      "execution_count": 26,
      "outputs": [
        {
          "output_type": "stream",
          "name": "stdout",
          "text": [
            "[11, 12, 13, 14] [21, 22, 23, 24] [31, 32, 33, 34]\n"
          ]
        }
      ]
    },
    {
      "cell_type": "code",
      "source": [
        "print(*m[0])\n",
        "print(*m[1])\n",
        "print(*m[2])"
      ],
      "metadata": {
        "colab": {
          "base_uri": "https://localhost:8080/"
        },
        "id": "jKgG3YqokORi",
        "outputId": "9a9b2333-8279-4866-de8c-a214cd867d9a"
      },
      "execution_count": 27,
      "outputs": [
        {
          "output_type": "stream",
          "name": "stdout",
          "text": [
            "11 12 13 14\n",
            "21 22 23 24\n",
            "31 32 33 34\n"
          ]
        }
      ]
    },
    {
      "cell_type": "markdown",
      "source": [
        "## Unir dos listas"
      ],
      "metadata": {
        "id": "KoaK0WdfklAx"
      }
    },
    {
      "cell_type": "code",
      "source": [
        "uno = [11,12,13]\n",
        "dos = [21,22,23]\n",
        "todo = uno+dos\n",
        "todo"
      ],
      "metadata": {
        "colab": {
          "base_uri": "https://localhost:8080/"
        },
        "id": "t4gVqZh9krBI",
        "outputId": "76fe03fb-eee7-4b85-f5bf-3e204d7e99b2"
      },
      "execution_count": 35,
      "outputs": [
        {
          "output_type": "execute_result",
          "data": {
            "text/plain": [
              "[11, 12, 13, 21, 22, 23]"
            ]
          },
          "metadata": {},
          "execution_count": 35
        }
      ]
    },
    {
      "cell_type": "markdown",
      "source": [
        "## Borrar un elmento de la lista"
      ],
      "metadata": {
        "id": "nhQD5g_ik_hk"
      }
    },
    {
      "cell_type": "code",
      "source": [
        "del todo[-1]  #Borra el último elemento\n",
        "todo"
      ],
      "metadata": {
        "colab": {
          "base_uri": "https://localhost:8080/"
        },
        "id": "bhhjrOcglDIJ",
        "outputId": "f9310bc4-4995-4055-b420-8754f6a9e4aa"
      },
      "execution_count": 36,
      "outputs": [
        {
          "output_type": "execute_result",
          "data": {
            "text/plain": [
              "[11, 12, 13, 21, 22]"
            ]
          },
          "metadata": {},
          "execution_count": 36
        }
      ]
    },
    {
      "cell_type": "markdown",
      "source": [
        "## Anexar un elmento a una lista\n",
        "Añadir un elmento en la útlima posición\n"
      ],
      "metadata": {
        "id": "33mJJqg3l2Ol"
      }
    },
    {
      "cell_type": "code",
      "source": [
        "todo.append(100)\n",
        "todo"
      ],
      "metadata": {
        "colab": {
          "base_uri": "https://localhost:8080/"
        },
        "id": "FxnryeS6l1ZF",
        "outputId": "494fb9e9-0460-489d-92b3-e5643a9a389e"
      },
      "execution_count": 37,
      "outputs": [
        {
          "output_type": "execute_result",
          "data": {
            "text/plain": [
              "[11, 12, 13, 21, 22, 100]"
            ]
          },
          "metadata": {},
          "execution_count": 37
        }
      ]
    },
    {
      "cell_type": "markdown",
      "source": [
        "## Comprobar si un elemento está en la lista"
      ],
      "metadata": {
        "id": "IWXOIVfRmNEn"
      }
    },
    {
      "cell_type": "code",
      "source": [
        "print(100 in todo)\n",
        "print(101 in todo)\n",
        "print(100 not in todo)"
      ],
      "metadata": {
        "colab": {
          "base_uri": "https://localhost:8080/"
        },
        "id": "JtutEFg8mRtl",
        "outputId": "c866390e-3f0a-4957-f99d-0f30404a0028"
      },
      "execution_count": 40,
      "outputs": [
        {
          "output_type": "stream",
          "name": "stdout",
          "text": [
            "True\n",
            "False\n",
            "False\n"
          ]
        }
      ]
    },
    {
      "cell_type": "markdown",
      "source": [
        "## Índice de un elmento en la lista"
      ],
      "metadata": {
        "id": "sFnPe1Jzmjh4"
      }
    },
    {
      "cell_type": "code",
      "source": [
        "todo.index(100)"
      ],
      "metadata": {
        "colab": {
          "base_uri": "https://localhost:8080/"
        },
        "id": "d7tnF-RimnNt",
        "outputId": "502ca831-8fda-4baf-ffba-46398b5d8d85"
      },
      "execution_count": 41,
      "outputs": [
        {
          "output_type": "execute_result",
          "data": {
            "text/plain": [
              "5"
            ]
          },
          "metadata": {},
          "execution_count": 41
        }
      ]
    },
    {
      "cell_type": "markdown",
      "source": [
        "## Remover un elemento de una lista"
      ],
      "metadata": {
        "id": "VwQ6h2HnmxMd"
      }
    },
    {
      "cell_type": "code",
      "source": [
        "print(todo)\n",
        "todo.remove(13)\n",
        "todo"
      ],
      "metadata": {
        "colab": {
          "base_uri": "https://localhost:8080/"
        },
        "id": "hxbdJcomm0Tq",
        "outputId": "a6223f81-788f-4c7f-fa93-5e16d60e4acd"
      },
      "execution_count": 43,
      "outputs": [
        {
          "output_type": "stream",
          "name": "stdout",
          "text": [
            "[11, 12, 13, 21, 22, 100]\n"
          ]
        },
        {
          "output_type": "execute_result",
          "data": {
            "text/plain": [
              "[11, 12, 21, 22, 100]"
            ]
          },
          "metadata": {},
          "execution_count": 43
        }
      ]
    },
    {
      "cell_type": "markdown",
      "source": [
        "## Eliminar el último elemento con ```pop```"
      ],
      "metadata": {
        "id": "l2gx7w_9nGVh"
      }
    },
    {
      "cell_type": "code",
      "source": [
        "todo.pop()\n",
        "todo"
      ],
      "metadata": {
        "colab": {
          "base_uri": "https://localhost:8080/"
        },
        "id": "Z3g1BkvOoNsP",
        "outputId": "da2f801d-e79e-4049-c2cc-587ebe14b57c"
      },
      "execution_count": 58,
      "outputs": [
        {
          "output_type": "execute_result",
          "data": {
            "text/plain": [
              "[11, 12, 13, 21, 22]"
            ]
          },
          "metadata": {},
          "execution_count": 58
        }
      ]
    },
    {
      "cell_type": "markdown",
      "source": [
        "## Insertamos un elemento en una posición"
      ],
      "metadata": {
        "id": "3rV8Yo9rotTS"
      }
    },
    {
      "cell_type": "code",
      "source": [
        "todo.insert(0,99) # Al ejecutar dos veces inserta dos veces el número 99\n",
        "todo"
      ],
      "metadata": {
        "colab": {
          "base_uri": "https://localhost:8080/"
        },
        "id": "5sXT6GJcozHd",
        "outputId": "3e798bc3-a863-454d-9375-1be5ee4d816e"
      },
      "execution_count": 60,
      "outputs": [
        {
          "output_type": "execute_result",
          "data": {
            "text/plain": [
              "[99, 99, 11, 12, 13, 21, 22]"
            ]
          },
          "metadata": {},
          "execution_count": 60
        }
      ]
    },
    {
      "cell_type": "code",
      "source": [
        "print(todo)"
      ],
      "metadata": {
        "colab": {
          "base_uri": "https://localhost:8080/"
        },
        "id": "cimIR5rIwspO",
        "outputId": "bf7db8e5-1315-43da-ef49-6664cc38d317"
      },
      "execution_count": 61,
      "outputs": [
        {
          "output_type": "stream",
          "name": "stdout",
          "text": [
            "[99, 99, 11, 12, 13, 21, 22]\n"
          ]
        }
      ]
    },
    {
      "cell_type": "markdown",
      "source": [
        "## Inicializar una lista con ceros"
      ],
      "metadata": {
        "id": "QsRIoSWgwzos"
      }
    },
    {
      "cell_type": "code",
      "source": [
        "ceros = [0]*10 # se crea una lista con 10 ceros\n",
        "ceros"
      ],
      "metadata": {
        "colab": {
          "base_uri": "https://localhost:8080/"
        },
        "id": "HNfHNVCCw4Nl",
        "outputId": "e18abcc5-d2ea-4dc2-c4a7-7040db42759e"
      },
      "execution_count": 64,
      "outputs": [
        {
          "output_type": "execute_result",
          "data": {
            "text/plain": [
              "[0, 0, 0, 0, 0, 0, 0, 0, 0, 0]"
            ]
          },
          "metadata": {},
          "execution_count": 64
        }
      ]
    },
    {
      "cell_type": "markdown",
      "source": [
        "## Problema al copiar listas"
      ],
      "metadata": {
        "id": "aHRWP6AqxS9v"
      }
    },
    {
      "cell_type": "code",
      "source": [
        "helados_Luis = ['nata','chocolate','fresa']\n",
        "helados_Sara = helados_Luis\n",
        "print(helados_Luis)\n",
        "print(helados_Sara)"
      ],
      "metadata": {
        "colab": {
          "base_uri": "https://localhost:8080/"
        },
        "id": "4x2ucuqDxQpM",
        "outputId": "ba1093f5-0808-422f-f54e-7e35dce30da0"
      },
      "execution_count": 66,
      "outputs": [
        {
          "output_type": "stream",
          "name": "stdout",
          "text": [
            "['nata', 'chocolate', 'fresa']\n",
            "['nata', 'chocolate', 'fresa']\n"
          ]
        }
      ]
    },
    {
      "cell_type": "markdown",
      "source": [
        "Al modificar un elemento de una lista también cambia en la otra ya que en\n",
        "realidad se trata de la misma lista con dos alias diferentes."
      ],
      "metadata": {
        "id": "FFXTXr7wx8g7"
      }
    },
    {
      "cell_type": "code",
      "source": [
        "helados_Sara[0] = 'pasas'\n",
        "print(helados_Luis)\n",
        "print(helados_Sara)"
      ],
      "metadata": {
        "colab": {
          "base_uri": "https://localhost:8080/"
        },
        "id": "tMUiHWdryFxU",
        "outputId": "a6fd92fa-4e4d-4322-c447-1a89face0ee9"
      },
      "execution_count": 67,
      "outputs": [
        {
          "output_type": "stream",
          "name": "stdout",
          "text": [
            "['pasas', 'chocolate', 'fresa']\n",
            "['pasas', 'chocolate', 'fresa']\n"
          ]
        }
      ]
    },
    {
      "cell_type": "code",
      "source": [
        "print(id(helados_Luis))\n",
        "print(id(helados_Sara))"
      ],
      "metadata": {
        "colab": {
          "base_uri": "https://localhost:8080/"
        },
        "id": "h8zf3r-w1fkJ",
        "outputId": "17de412a-cd2d-489a-e5c7-ea9d03ceacde"
      },
      "execution_count": 76,
      "outputs": [
        {
          "output_type": "stream",
          "name": "stdout",
          "text": [
            "139947372595200\n",
            "139947372595200\n"
          ]
        }
      ]
    },
    {
      "cell_type": "markdown",
      "source": [
        "## Haciendo una copia independiente de una lista"
      ],
      "metadata": {
        "id": "gFzC3prNzKUA"
      }
    },
    {
      "cell_type": "code",
      "source": [
        "favoritos_Luis =  [3,7,15]\n",
        "favoritos_Sara = favoritos_Luis[:]                # Esto es una copia elmento a elmento"
      ],
      "metadata": {
        "id": "Xz8trEiazPvf"
      },
      "execution_count": 72,
      "outputs": []
    },
    {
      "cell_type": "code",
      "source": [
        "favoritos_Sara[0]=2\n",
        "print(favoritos_Luis)\n",
        "print(favoritos_Sara)\n"
      ],
      "metadata": {
        "colab": {
          "base_uri": "https://localhost:8080/"
        },
        "id": "SLXcL_AUztiA",
        "outputId": "7805044e-8bc2-4c3f-ec89-d897a97c6ee4"
      },
      "execution_count": 73,
      "outputs": [
        {
          "output_type": "stream",
          "name": "stdout",
          "text": [
            "[3, 7, 15]\n",
            "[2, 7, 15]\n"
          ]
        }
      ]
    },
    {
      "cell_type": "code",
      "source": [
        "print(id(favoritos_Luis))\n",
        "print(id(favoritos_Sara))"
      ],
      "metadata": {
        "colab": {
          "base_uri": "https://localhost:8080/"
        },
        "id": "JC45at401D8j",
        "outputId": "65a4c854-7db6-4154-d4e8-8822e65aed67"
      },
      "execution_count": 75,
      "outputs": [
        {
          "output_type": "stream",
          "name": "stdout",
          "text": [
            "139947373234880\n",
            "139947726437888\n"
          ]
        }
      ]
    },
    {
      "cell_type": "markdown",
      "source": [
        "## Copiando una matrid con ```deepcopy```\n",
        "Creamos un nuevo objeto matriz usando ```deepcopy``` de la libreria ```copy```"
      ],
      "metadata": {
        "id": "AMuFjp-S1tVy"
      }
    },
    {
      "cell_type": "code",
      "source": [
        "from copy import deepcopy\n",
        "x = [[1,2], [3,4]]\n",
        "y = deepcopy(x)\n",
        "print(x)\n",
        "print(y)"
      ],
      "metadata": {
        "colab": {
          "base_uri": "https://localhost:8080/"
        },
        "id": "DAfqYROS1-gg",
        "outputId": "31b7ae13-2c47-4b5e-e172-a42ff3293a61"
      },
      "execution_count": 77,
      "outputs": [
        {
          "output_type": "stream",
          "name": "stdout",
          "text": [
            "[[1, 2], [3, 4]]\n",
            "[[1, 2], [3, 4]]\n"
          ]
        }
      ]
    },
    {
      "cell_type": "markdown",
      "source": [
        "Comprobación"
      ],
      "metadata": {
        "id": "a779dUqa2wUS"
      }
    },
    {
      "cell_type": "code",
      "source": [
        "x[0][0] = 88\n",
        "y.append([9,9])\n",
        "print(x)\n",
        "print(y)"
      ],
      "metadata": {
        "colab": {
          "base_uri": "https://localhost:8080/"
        },
        "id": "XOtZXNHI2vYG",
        "outputId": "dabc2d19-b702-4274-c9eb-6470d074c55d"
      },
      "execution_count": 78,
      "outputs": [
        {
          "output_type": "stream",
          "name": "stdout",
          "text": [
            "[[88, 2], [3, 4]]\n",
            "[[1, 2], [3, 4], [9, 9]]\n"
          ]
        }
      ]
    },
    {
      "cell_type": "markdown",
      "source": [
        "##```Sort``` y ```Sorted```"
      ],
      "metadata": {
        "id": "c93iVsQK41nI"
      }
    },
    {
      "cell_type": "code",
      "source": [
        "l = [5,2,6,9,0,-3]\n",
        "print('lista inicial', l)\n",
        "l.sort()       # l.sort() realmente ordena la lista pero se ha de poner antes del primt\n",
        "print('lista ordenada:', l)"
      ],
      "metadata": {
        "colab": {
          "base_uri": "https://localhost:8080/"
        },
        "id": "wQc1zXKg41Bv",
        "outputId": "388f7ef3-ee59-4d4f-e737-0d9782ffd4e6"
      },
      "execution_count": 82,
      "outputs": [
        {
          "output_type": "stream",
          "name": "stdout",
          "text": [
            "lista inicial [5, 2, 6, 9, 0, -3]\n",
            "lista ordenada: [-3, 0, 2, 5, 6, 9]\n"
          ]
        }
      ]
    },
    {
      "cell_type": "code",
      "source": [
        "l = [5,2,6,9,0,-3]\n",
        "print('lista inicial', l)\n",
        "print('lista ordenada:', sorted(l))    # realmente no ordena la lista pero si la imprime ordenada\n",
        "print ('lista fianal:', l)"
      ],
      "metadata": {
        "colab": {
          "base_uri": "https://localhost:8080/"
        },
        "id": "8DOCZOLD6hH4",
        "outputId": "112fcedb-f013-4d31-8950-57dc48d2c566"
      },
      "execution_count": 85,
      "outputs": [
        {
          "output_type": "stream",
          "name": "stdout",
          "text": [
            "lista inicial [5, 2, 6, 9, 0, -3]\n",
            "lista ordenada: [-3, 0, 2, 5, 6, 9]\n",
            "lista fianal: [5, 2, 6, 9, 0, -3]\n"
          ]
        }
      ]
    }
  ]
}